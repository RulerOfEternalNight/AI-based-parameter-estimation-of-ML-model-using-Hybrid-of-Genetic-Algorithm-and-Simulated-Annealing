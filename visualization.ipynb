{
 "cells": [
  {
   "cell_type": "code",
   "execution_count": 1,
   "metadata": {},
   "outputs": [],
   "source": [
    "import pandas as pd\n",
    "import numpy as np\n",
    "from mpl_toolkits import mplot3d\n",
    "import seaborn as sns\n",
    "import matplotlib.pyplot as plt\n",
    "%matplotlib inline"
   ]
  },
  {
   "cell_type": "code",
   "execution_count": 2,
   "metadata": {},
   "outputs": [
    {
     "data": {
      "text/html": [
       "<div>\n",
       "<style scoped>\n",
       "    .dataframe tbody tr th:only-of-type {\n",
       "        vertical-align: middle;\n",
       "    }\n",
       "\n",
       "    .dataframe tbody tr th {\n",
       "        vertical-align: top;\n",
       "    }\n",
       "\n",
       "    .dataframe thead th {\n",
       "        text-align: right;\n",
       "    }\n",
       "</style>\n",
       "<table border=\"1\" class=\"dataframe\">\n",
       "  <thead>\n",
       "    <tr style=\"text-align: right;\">\n",
       "      <th></th>\n",
       "      <th>max_depth</th>\n",
       "      <th>min_samples_leaf</th>\n",
       "      <th>n_estimators</th>\n",
       "      <th>oob_score</th>\n",
       "      <th>classifier_score</th>\n",
       "      <th>ga_timetaken</th>\n",
       "      <th>hybrid_md</th>\n",
       "      <th>hybrid_msl</th>\n",
       "      <th>hybrid_ne</th>\n",
       "      <th>hybrid_oob_score</th>\n",
       "      <th>sa_timetaken</th>\n",
       "      <th>hybrid_timetaken</th>\n",
       "    </tr>\n",
       "  </thead>\n",
       "  <tbody>\n",
       "    <tr>\n",
       "      <th>0</th>\n",
       "      <td>17</td>\n",
       "      <td>19</td>\n",
       "      <td>12</td>\n",
       "      <td>0.708995</td>\n",
       "      <td>0.654321</td>\n",
       "      <td>13.712285</td>\n",
       "      <td>11</td>\n",
       "      <td>19</td>\n",
       "      <td>14</td>\n",
       "      <td>0.714286</td>\n",
       "      <td>46.158871</td>\n",
       "      <td>60.003971</td>\n",
       "    </tr>\n",
       "    <tr>\n",
       "      <th>1</th>\n",
       "      <td>15</td>\n",
       "      <td>5</td>\n",
       "      <td>14</td>\n",
       "      <td>0.661376</td>\n",
       "      <td>0.654321</td>\n",
       "      <td>8.634015</td>\n",
       "      <td>8</td>\n",
       "      <td>20</td>\n",
       "      <td>14</td>\n",
       "      <td>0.714286</td>\n",
       "      <td>49.761600</td>\n",
       "      <td>58.477428</td>\n",
       "    </tr>\n",
       "    <tr>\n",
       "      <th>2</th>\n",
       "      <td>21</td>\n",
       "      <td>14</td>\n",
       "      <td>9</td>\n",
       "      <td>0.703704</td>\n",
       "      <td>0.617284</td>\n",
       "      <td>10.028571</td>\n",
       "      <td>17</td>\n",
       "      <td>19</td>\n",
       "      <td>13</td>\n",
       "      <td>0.714286</td>\n",
       "      <td>47.476443</td>\n",
       "      <td>57.610354</td>\n",
       "    </tr>\n",
       "    <tr>\n",
       "      <th>3</th>\n",
       "      <td>10</td>\n",
       "      <td>19</td>\n",
       "      <td>14</td>\n",
       "      <td>0.714286</td>\n",
       "      <td>0.641975</td>\n",
       "      <td>14.673628</td>\n",
       "      <td>18</td>\n",
       "      <td>20</td>\n",
       "      <td>14</td>\n",
       "      <td>0.714286</td>\n",
       "      <td>47.862897</td>\n",
       "      <td>62.687554</td>\n",
       "    </tr>\n",
       "    <tr>\n",
       "      <th>4</th>\n",
       "      <td>7</td>\n",
       "      <td>5</td>\n",
       "      <td>7</td>\n",
       "      <td>0.677249</td>\n",
       "      <td>0.629630</td>\n",
       "      <td>11.272930</td>\n",
       "      <td>18</td>\n",
       "      <td>19</td>\n",
       "      <td>13</td>\n",
       "      <td>0.714286</td>\n",
       "      <td>50.069232</td>\n",
       "      <td>61.453823</td>\n",
       "    </tr>\n",
       "  </tbody>\n",
       "</table>\n",
       "</div>"
      ],
      "text/plain": [
       "   max_depth  min_samples_leaf  n_estimators  oob_score  classifier_score  \\\n",
       "0         17                19            12   0.708995          0.654321   \n",
       "1         15                 5            14   0.661376          0.654321   \n",
       "2         21                14             9   0.703704          0.617284   \n",
       "3         10                19            14   0.714286          0.641975   \n",
       "4          7                 5             7   0.677249          0.629630   \n",
       "\n",
       "   ga_timetaken  hybrid_md  hybrid_msl  hybrid_ne  hybrid_oob_score  \\\n",
       "0     13.712285         11          19         14          0.714286   \n",
       "1      8.634015          8          20         14          0.714286   \n",
       "2     10.028571         17          19         13          0.714286   \n",
       "3     14.673628         18          20         14          0.714286   \n",
       "4     11.272930         18          19         13          0.714286   \n",
       "\n",
       "   sa_timetaken  hybrid_timetaken  \n",
       "0     46.158871         60.003971  \n",
       "1     49.761600         58.477428  \n",
       "2     47.476443         57.610354  \n",
       "3     47.862897         62.687554  \n",
       "4     50.069232         61.453823  "
      ]
     },
     "execution_count": 2,
     "metadata": {},
     "output_type": "execute_result"
    }
   ],
   "source": [
    "report = pd.read_csv('Report/finalReport_2022-12-28.csv')\n",
    "report.head()"
   ]
  },
  {
   "cell_type": "code",
   "execution_count": 3,
   "metadata": {},
   "outputs": [
    {
     "data": {
      "text/plain": [
       "(51, 12)"
      ]
     },
     "execution_count": 3,
     "metadata": {},
     "output_type": "execute_result"
    }
   ],
   "source": [
    "report.shape"
   ]
  },
  {
   "cell_type": "code",
   "execution_count": 4,
   "metadata": {},
   "outputs": [
    {
     "data": {
      "text/plain": [
       "array([17, 15, 21, 10,  7, 13, 14,  4, 16, 20,  9, 27,  8,  6, 11, 23, 12,\n",
       "       22, 30, 19,  2, 18], dtype=int64)"
      ]
     },
     "metadata": {},
     "output_type": "display_data"
    },
    {
     "data": {
      "text/plain": [
       "array([19,  5, 14, 20,  2, 21, 13, 10, 16, 15, 22, 23, 18], dtype=int64)"
      ]
     },
     "metadata": {},
     "output_type": "display_data"
    },
    {
     "data": {
      "text/plain": [
       "array([12, 14,  9,  7, 15,  5, 13, 10,  3, 11,  6], dtype=int64)"
      ]
     },
     "metadata": {},
     "output_type": "display_data"
    }
   ],
   "source": [
    "display(report['max_depth'].unique())\n",
    "display(report['min_samples_leaf'].unique())\n",
    "display(report['n_estimators'].unique())"
   ]
  },
  {
   "cell_type": "code",
   "execution_count": 5,
   "metadata": {},
   "outputs": [
    {
     "data": {
      "text/plain": [
       "(39, 12)"
      ]
     },
     "execution_count": 5,
     "metadata": {},
     "output_type": "execute_result"
    }
   ],
   "source": [
    "report.query(\"max_depth <= 20\", inplace=True)\n",
    "report.query(\"min_samples_leaf <= 20\", inplace=True)\n",
    "report.query(\"n_estimators <= 20\", inplace=True)\n",
    "report.shape"
   ]
  },
  {
   "cell_type": "code",
   "execution_count": 6,
   "metadata": {},
   "outputs": [
    {
     "data": {
      "text/plain": [
       "oob_score           11\n",
       "hybrid_oob_score     3\n",
       "dtype: int64"
      ]
     },
     "metadata": {},
     "output_type": "display_data"
    },
    {
     "data": {
      "text/plain": [
       "array([0.70899471, 0.66137566, 0.71428571, 0.67724868, 0.7037037 ,\n",
       "       0.6984127 , 0.66666667, 0.69312169, 0.68783069, 0.67195767,\n",
       "       0.68253968])"
      ]
     },
     "metadata": {},
     "output_type": "display_data"
    },
    {
     "data": {
      "text/plain": [
       "array([0.71428571, 0.6984127 , 0.7037037 ])"
      ]
     },
     "metadata": {},
     "output_type": "display_data"
    }
   ],
   "source": [
    "display(report[['oob_score', 'hybrid_oob_score']].nunique())\n",
    "display(report['oob_score'].unique())\n",
    "display(report['hybrid_oob_score'].unique())"
   ]
  },
  {
   "cell_type": "code",
   "execution_count": 7,
   "metadata": {},
   "outputs": [
    {
     "data": {
      "text/plain": [
       "(39, 12)"
      ]
     },
     "execution_count": 7,
     "metadata": {},
     "output_type": "execute_result"
    }
   ],
   "source": [
    "report.drop_duplicates()\n",
    "report = report.reset_index(drop=True)\n",
    "report.shape"
   ]
  },
  {
   "cell_type": "code",
   "execution_count": 8,
   "metadata": {},
   "outputs": [
    {
     "data": {
      "text/html": [
       "<div>\n",
       "<style scoped>\n",
       "    .dataframe tbody tr th:only-of-type {\n",
       "        vertical-align: middle;\n",
       "    }\n",
       "\n",
       "    .dataframe tbody tr th {\n",
       "        vertical-align: top;\n",
       "    }\n",
       "\n",
       "    .dataframe thead th {\n",
       "        text-align: right;\n",
       "    }\n",
       "</style>\n",
       "<table border=\"1\" class=\"dataframe\">\n",
       "  <thead>\n",
       "    <tr style=\"text-align: right;\">\n",
       "      <th></th>\n",
       "      <th>combos</th>\n",
       "      <th>cv_cnt</th>\n",
       "      <th>oob_score</th>\n",
       "      <th>classifier_score</th>\n",
       "      <th>time-taken</th>\n",
       "    </tr>\n",
       "  </thead>\n",
       "  <tbody>\n",
       "    <tr>\n",
       "      <th>0</th>\n",
       "      <td>180</td>\n",
       "      <td>10</td>\n",
       "      <td>0.671958</td>\n",
       "      <td>0.62963</td>\n",
       "      <td>63.822724</td>\n",
       "    </tr>\n",
       "    <tr>\n",
       "      <th>1</th>\n",
       "      <td>180</td>\n",
       "      <td>5</td>\n",
       "      <td>0.671958</td>\n",
       "      <td>0.62963</td>\n",
       "      <td>69.873795</td>\n",
       "    </tr>\n",
       "    <tr>\n",
       "      <th>2</th>\n",
       "      <td>180</td>\n",
       "      <td>6</td>\n",
       "      <td>0.671958</td>\n",
       "      <td>0.62963</td>\n",
       "      <td>62.151759</td>\n",
       "    </tr>\n",
       "    <tr>\n",
       "      <th>3</th>\n",
       "      <td>180</td>\n",
       "      <td>1</td>\n",
       "      <td>0.671958</td>\n",
       "      <td>0.62963</td>\n",
       "      <td>80.855480</td>\n",
       "    </tr>\n",
       "    <tr>\n",
       "      <th>4</th>\n",
       "      <td>180</td>\n",
       "      <td>10</td>\n",
       "      <td>0.671958</td>\n",
       "      <td>0.62963</td>\n",
       "      <td>79.011138</td>\n",
       "    </tr>\n",
       "  </tbody>\n",
       "</table>\n",
       "</div>"
      ],
      "text/plain": [
       "   combos  cv_cnt  oob_score  classifier_score  time-taken\n",
       "0     180      10   0.671958           0.62963   63.822724\n",
       "1     180       5   0.671958           0.62963   69.873795\n",
       "2     180       6   0.671958           0.62963   62.151759\n",
       "3     180       1   0.671958           0.62963   80.855480\n",
       "4     180      10   0.671958           0.62963   79.011138"
      ]
     },
     "execution_count": 8,
     "metadata": {},
     "output_type": "execute_result"
    }
   ],
   "source": [
    "gscv_report = pd.read_csv('Report/initialReport_2022-12-28.csv')\n",
    "gscv_report.head()"
   ]
  },
  {
   "cell_type": "code",
   "execution_count": 9,
   "metadata": {},
   "outputs": [
    {
     "name": "stderr",
     "output_type": "stream",
     "text": [
      "<ipython-input-9-7f5531faf545>:2: SettingWithCopyWarning: \n",
      "A value is trying to be set on a copy of a slice from a DataFrame.\n",
      "Try using .loc[row_indexer,col_indexer] = value instead\n",
      "\n",
      "See the caveats in the documentation: https://pandas.pydata.org/pandas-docs/stable/user_guide/indexing.html#returning-a-view-versus-a-copy\n",
      "  gscv_report_imp['oob_score'] = gscv_report_imp['oob_score']*100\n"
     ]
    },
    {
     "data": {
      "text/html": [
       "<div>\n",
       "<style scoped>\n",
       "    .dataframe tbody tr th:only-of-type {\n",
       "        vertical-align: middle;\n",
       "    }\n",
       "\n",
       "    .dataframe tbody tr th {\n",
       "        vertical-align: top;\n",
       "    }\n",
       "\n",
       "    .dataframe thead th {\n",
       "        text-align: right;\n",
       "    }\n",
       "</style>\n",
       "<table border=\"1\" class=\"dataframe\">\n",
       "  <thead>\n",
       "    <tr style=\"text-align: right;\">\n",
       "      <th></th>\n",
       "      <th>cv_cnt</th>\n",
       "      <th>oob_score</th>\n",
       "      <th>time-taken</th>\n",
       "    </tr>\n",
       "  </thead>\n",
       "  <tbody>\n",
       "    <tr>\n",
       "      <th>0</th>\n",
       "      <td>10</td>\n",
       "      <td>67.195767</td>\n",
       "      <td>63.822724</td>\n",
       "    </tr>\n",
       "    <tr>\n",
       "      <th>1</th>\n",
       "      <td>5</td>\n",
       "      <td>67.195767</td>\n",
       "      <td>69.873795</td>\n",
       "    </tr>\n",
       "    <tr>\n",
       "      <th>2</th>\n",
       "      <td>6</td>\n",
       "      <td>67.195767</td>\n",
       "      <td>62.151759</td>\n",
       "    </tr>\n",
       "    <tr>\n",
       "      <th>3</th>\n",
       "      <td>1</td>\n",
       "      <td>67.195767</td>\n",
       "      <td>80.855480</td>\n",
       "    </tr>\n",
       "    <tr>\n",
       "      <th>4</th>\n",
       "      <td>10</td>\n",
       "      <td>67.195767</td>\n",
       "      <td>79.011138</td>\n",
       "    </tr>\n",
       "    <tr>\n",
       "      <th>5</th>\n",
       "      <td>0</td>\n",
       "      <td>67.195767</td>\n",
       "      <td>63.788210</td>\n",
       "    </tr>\n",
       "    <tr>\n",
       "      <th>6</th>\n",
       "      <td>1</td>\n",
       "      <td>67.195767</td>\n",
       "      <td>58.284040</td>\n",
       "    </tr>\n",
       "    <tr>\n",
       "      <th>7</th>\n",
       "      <td>6</td>\n",
       "      <td>67.195767</td>\n",
       "      <td>63.967118</td>\n",
       "    </tr>\n",
       "    <tr>\n",
       "      <th>8</th>\n",
       "      <td>9</td>\n",
       "      <td>67.195767</td>\n",
       "      <td>75.165589</td>\n",
       "    </tr>\n",
       "    <tr>\n",
       "      <th>9</th>\n",
       "      <td>9</td>\n",
       "      <td>67.195767</td>\n",
       "      <td>80.249373</td>\n",
       "    </tr>\n",
       "  </tbody>\n",
       "</table>\n",
       "</div>"
      ],
      "text/plain": [
       "   cv_cnt  oob_score  time-taken\n",
       "0      10  67.195767   63.822724\n",
       "1       5  67.195767   69.873795\n",
       "2       6  67.195767   62.151759\n",
       "3       1  67.195767   80.855480\n",
       "4      10  67.195767   79.011138\n",
       "5       0  67.195767   63.788210\n",
       "6       1  67.195767   58.284040\n",
       "7       6  67.195767   63.967118\n",
       "8       9  67.195767   75.165589\n",
       "9       9  67.195767   80.249373"
      ]
     },
     "execution_count": 9,
     "metadata": {},
     "output_type": "execute_result"
    }
   ],
   "source": [
    "gscv_report_imp = gscv_report[['cv_cnt','oob_score','time-taken']]\n",
    "gscv_report_imp['oob_score'] = gscv_report_imp['oob_score']*100\n",
    "gscv_report_imp"
   ]
  },
  {
   "cell_type": "markdown",
   "metadata": {},
   "source": [
    "# report"
   ]
  },
  {
   "cell_type": "code",
   "execution_count": 10,
   "metadata": {},
   "outputs": [
    {
     "data": {
      "image/png": "[encoded data removed]",
      "text/plain": [
       "<Figure size 432x288 with 1 Axes>"
      ]
     },
     "metadata": {
      "needs_background": "light"
     },
     "output_type": "display_data"
    }
   ],
   "source": [
    "ax = plt.axes(projection='3d')\n",
    "\n",
    "# Data for three-dimensional scattered points\n",
    "zdata = list(report['max_depth'])\n",
    "xdata = list(report['min_samples_leaf'])\n",
    "ydata = list(report['n_estimators'])\n",
    "ax.scatter3D(xdata, ydata, zdata);"
   ]
  },
  {
   "cell_type": "code",
   "execution_count": 11,
   "metadata": {},
   "outputs": [
    {
     "name": "stderr",
     "output_type": "stream",
     "text": [
      "<ipython-input-11-e99de39dd895>:3: SettingWithCopyWarning: \n",
      "A value is trying to be set on a copy of a slice from a DataFrame.\n",
      "Try using .loc[row_indexer,col_indexer] = value instead\n",
      "\n",
      "See the caveats in the documentation: https://pandas.pydata.org/pandas-docs/stable/user_guide/indexing.html#returning-a-view-versus-a-copy\n",
      "  ga['oob_score_percent'] = ga['oob_score_percent'].apply(lambda x: x*100)\n",
      "<ipython-input-11-e99de39dd895>:4: SettingWithCopyWarning: \n",
      "A value is trying to be set on a copy of a slice from a DataFrame.\n",
      "Try using .loc[row_indexer,col_indexer] = value instead\n",
      "\n",
      "See the caveats in the documentation: https://pandas.pydata.org/pandas-docs/stable/user_guide/indexing.html#returning-a-view-versus-a-copy\n",
      "  ga['type'] = 'Genetic Algo'\n"
     ]
    },
    {
     "data": {
      "text/html": [
       "<div>\n",
       "<style scoped>\n",
       "    .dataframe tbody tr th:only-of-type {\n",
       "        vertical-align: middle;\n",
       "    }\n",
       "\n",
       "    .dataframe tbody tr th {\n",
       "        vertical-align: top;\n",
       "    }\n",
       "\n",
       "    .dataframe thead th {\n",
       "        text-align: right;\n",
       "    }\n",
       "</style>\n",
       "<table border=\"1\" class=\"dataframe\">\n",
       "  <thead>\n",
       "    <tr style=\"text-align: right;\">\n",
       "      <th></th>\n",
       "      <th>oob_score_percent</th>\n",
       "      <th>timetaken</th>\n",
       "      <th>type</th>\n",
       "    </tr>\n",
       "  </thead>\n",
       "  <tbody>\n",
       "    <tr>\n",
       "      <th>0</th>\n",
       "      <td>70.899471</td>\n",
       "      <td>13.712285</td>\n",
       "      <td>Genetic Algo</td>\n",
       "    </tr>\n",
       "    <tr>\n",
       "      <th>1</th>\n",
       "      <td>66.137566</td>\n",
       "      <td>8.634015</td>\n",
       "      <td>Genetic Algo</td>\n",
       "    </tr>\n",
       "    <tr>\n",
       "      <th>2</th>\n",
       "      <td>71.428571</td>\n",
       "      <td>14.673628</td>\n",
       "      <td>Genetic Algo</td>\n",
       "    </tr>\n",
       "    <tr>\n",
       "      <th>3</th>\n",
       "      <td>67.724868</td>\n",
       "      <td>11.272930</td>\n",
       "      <td>Genetic Algo</td>\n",
       "    </tr>\n",
       "    <tr>\n",
       "      <th>4</th>\n",
       "      <td>67.724868</td>\n",
       "      <td>7.905281</td>\n",
       "      <td>Genetic Algo</td>\n",
       "    </tr>\n",
       "    <tr>\n",
       "      <th>5</th>\n",
       "      <td>70.899471</td>\n",
       "      <td>16.057838</td>\n",
       "      <td>Genetic Algo</td>\n",
       "    </tr>\n",
       "    <tr>\n",
       "      <th>6</th>\n",
       "      <td>67.724868</td>\n",
       "      <td>5.572426</td>\n",
       "      <td>Genetic Algo</td>\n",
       "    </tr>\n",
       "    <tr>\n",
       "      <th>7</th>\n",
       "      <td>70.370370</td>\n",
       "      <td>11.316633</td>\n",
       "      <td>Genetic Algo</td>\n",
       "    </tr>\n",
       "    <tr>\n",
       "      <th>8</th>\n",
       "      <td>69.841270</td>\n",
       "      <td>8.278188</td>\n",
       "      <td>Genetic Algo</td>\n",
       "    </tr>\n",
       "    <tr>\n",
       "      <th>9</th>\n",
       "      <td>70.899471</td>\n",
       "      <td>12.881294</td>\n",
       "      <td>Genetic Algo</td>\n",
       "    </tr>\n",
       "    <tr>\n",
       "      <th>10</th>\n",
       "      <td>71.428571</td>\n",
       "      <td>14.010811</td>\n",
       "      <td>Genetic Algo</td>\n",
       "    </tr>\n",
       "    <tr>\n",
       "      <th>11</th>\n",
       "      <td>69.841270</td>\n",
       "      <td>10.954971</td>\n",
       "      <td>Genetic Algo</td>\n",
       "    </tr>\n",
       "    <tr>\n",
       "      <th>12</th>\n",
       "      <td>66.137566</td>\n",
       "      <td>6.560454</td>\n",
       "      <td>Genetic Algo</td>\n",
       "    </tr>\n",
       "    <tr>\n",
       "      <th>13</th>\n",
       "      <td>70.370370</td>\n",
       "      <td>12.456828</td>\n",
       "      <td>Genetic Algo</td>\n",
       "    </tr>\n",
       "    <tr>\n",
       "      <th>14</th>\n",
       "      <td>70.370370</td>\n",
       "      <td>12.120405</td>\n",
       "      <td>Genetic Algo</td>\n",
       "    </tr>\n",
       "    <tr>\n",
       "      <th>15</th>\n",
       "      <td>66.666667</td>\n",
       "      <td>9.315211</td>\n",
       "      <td>Genetic Algo</td>\n",
       "    </tr>\n",
       "    <tr>\n",
       "      <th>16</th>\n",
       "      <td>69.312169</td>\n",
       "      <td>16.009236</td>\n",
       "      <td>Genetic Algo</td>\n",
       "    </tr>\n",
       "    <tr>\n",
       "      <th>17</th>\n",
       "      <td>70.899471</td>\n",
       "      <td>14.151667</td>\n",
       "      <td>Genetic Algo</td>\n",
       "    </tr>\n",
       "    <tr>\n",
       "      <th>18</th>\n",
       "      <td>71.428571</td>\n",
       "      <td>11.249319</td>\n",
       "      <td>Genetic Algo</td>\n",
       "    </tr>\n",
       "    <tr>\n",
       "      <th>19</th>\n",
       "      <td>67.724868</td>\n",
       "      <td>9.795627</td>\n",
       "      <td>Genetic Algo</td>\n",
       "    </tr>\n",
       "    <tr>\n",
       "      <th>20</th>\n",
       "      <td>69.841270</td>\n",
       "      <td>11.347055</td>\n",
       "      <td>Genetic Algo</td>\n",
       "    </tr>\n",
       "    <tr>\n",
       "      <th>21</th>\n",
       "      <td>70.370370</td>\n",
       "      <td>10.130764</td>\n",
       "      <td>Genetic Algo</td>\n",
       "    </tr>\n",
       "    <tr>\n",
       "      <th>22</th>\n",
       "      <td>71.428571</td>\n",
       "      <td>13.502628</td>\n",
       "      <td>Genetic Algo</td>\n",
       "    </tr>\n",
       "    <tr>\n",
       "      <th>23</th>\n",
       "      <td>69.841270</td>\n",
       "      <td>13.209860</td>\n",
       "      <td>Genetic Algo</td>\n",
       "    </tr>\n",
       "    <tr>\n",
       "      <th>24</th>\n",
       "      <td>71.428571</td>\n",
       "      <td>13.307245</td>\n",
       "      <td>Genetic Algo</td>\n",
       "    </tr>\n",
       "    <tr>\n",
       "      <th>25</th>\n",
       "      <td>71.428571</td>\n",
       "      <td>12.598544</td>\n",
       "      <td>Genetic Algo</td>\n",
       "    </tr>\n",
       "    <tr>\n",
       "      <th>26</th>\n",
       "      <td>71.428571</td>\n",
       "      <td>13.903824</td>\n",
       "      <td>Genetic Algo</td>\n",
       "    </tr>\n",
       "    <tr>\n",
       "      <th>27</th>\n",
       "      <td>69.841270</td>\n",
       "      <td>9.508437</td>\n",
       "      <td>Genetic Algo</td>\n",
       "    </tr>\n",
       "    <tr>\n",
       "      <th>28</th>\n",
       "      <td>68.783069</td>\n",
       "      <td>13.986571</td>\n",
       "      <td>Genetic Algo</td>\n",
       "    </tr>\n",
       "    <tr>\n",
       "      <th>29</th>\n",
       "      <td>69.841270</td>\n",
       "      <td>10.919147</td>\n",
       "      <td>Genetic Algo</td>\n",
       "    </tr>\n",
       "    <tr>\n",
       "      <th>30</th>\n",
       "      <td>67.195767</td>\n",
       "      <td>6.927531</td>\n",
       "      <td>Genetic Algo</td>\n",
       "    </tr>\n",
       "    <tr>\n",
       "      <th>31</th>\n",
       "      <td>70.899471</td>\n",
       "      <td>14.842461</td>\n",
       "      <td>Genetic Algo</td>\n",
       "    </tr>\n",
       "    <tr>\n",
       "      <th>32</th>\n",
       "      <td>70.370370</td>\n",
       "      <td>10.257864</td>\n",
       "      <td>Genetic Algo</td>\n",
       "    </tr>\n",
       "    <tr>\n",
       "      <th>33</th>\n",
       "      <td>68.253968</td>\n",
       "      <td>7.816331</td>\n",
       "      <td>Genetic Algo</td>\n",
       "    </tr>\n",
       "    <tr>\n",
       "      <th>34</th>\n",
       "      <td>69.841270</td>\n",
       "      <td>12.045160</td>\n",
       "      <td>Genetic Algo</td>\n",
       "    </tr>\n",
       "    <tr>\n",
       "      <th>35</th>\n",
       "      <td>66.137566</td>\n",
       "      <td>7.974312</td>\n",
       "      <td>Genetic Algo</td>\n",
       "    </tr>\n",
       "    <tr>\n",
       "      <th>36</th>\n",
       "      <td>71.428571</td>\n",
       "      <td>15.778926</td>\n",
       "      <td>Genetic Algo</td>\n",
       "    </tr>\n",
       "    <tr>\n",
       "      <th>37</th>\n",
       "      <td>68.253968</td>\n",
       "      <td>11.901170</td>\n",
       "      <td>Genetic Algo</td>\n",
       "    </tr>\n",
       "    <tr>\n",
       "      <th>38</th>\n",
       "      <td>67.195767</td>\n",
       "      <td>11.800297</td>\n",
       "      <td>Genetic Algo</td>\n",
       "    </tr>\n",
       "  </tbody>\n",
       "</table>\n",
       "</div>"
      ],
      "text/plain": [
       "    oob_score_percent  timetaken          type\n",
       "0           70.899471  13.712285  Genetic Algo\n",
       "1           66.137566   8.634015  Genetic Algo\n",
       "2           71.428571  14.673628  Genetic Algo\n",
       "3           67.724868  11.272930  Genetic Algo\n",
       "4           67.724868   7.905281  Genetic Algo\n",
       "5           70.899471  16.057838  Genetic Algo\n",
       "6           67.724868   5.572426  Genetic Algo\n",
       "7           70.370370  11.316633  Genetic Algo\n",
       "8           69.841270   8.278188  Genetic Algo\n",
       "9           70.899471  12.881294  Genetic Algo\n",
       "10          71.428571  14.010811  Genetic Algo\n",
       "11          69.841270  10.954971  Genetic Algo\n",
       "12          66.137566   6.560454  Genetic Algo\n",
       "13          70.370370  12.456828  Genetic Algo\n",
       "14          70.370370  12.120405  Genetic Algo\n",
       "15          66.666667   9.315211  Genetic Algo\n",
       "16          69.312169  16.009236  Genetic Algo\n",
       "17          70.899471  14.151667  Genetic Algo\n",
       "18          71.428571  11.249319  Genetic Algo\n",
       "19          67.724868   9.795627  Genetic Algo\n",
       "20          69.841270  11.347055  Genetic Algo\n",
       "21          70.370370  10.130764  Genetic Algo\n",
       "22          71.428571  13.502628  Genetic Algo\n",
       "23          69.841270  13.209860  Genetic Algo\n",
       "24          71.428571  13.307245  Genetic Algo\n",
       "25          71.428571  12.598544  Genetic Algo\n",
       "26          71.428571  13.903824  Genetic Algo\n",
       "27          69.841270   9.508437  Genetic Algo\n",
       "28          68.783069  13.986571  Genetic Algo\n",
       "29          69.841270  10.919147  Genetic Algo\n",
       "30          67.195767   6.927531  Genetic Algo\n",
       "31          70.899471  14.842461  Genetic Algo\n",
       "32          70.370370  10.257864  Genetic Algo\n",
       "33          68.253968   7.816331  Genetic Algo\n",
       "34          69.841270  12.045160  Genetic Algo\n",
       "35          66.137566   7.974312  Genetic Algo\n",
       "36          71.428571  15.778926  Genetic Algo\n",
       "37          68.253968  11.901170  Genetic Algo\n",
       "38          67.195767  11.800297  Genetic Algo"
      ]
     },
     "execution_count": 11,
     "metadata": {},
     "output_type": "execute_result"
    }
   ],
   "source": [
    "ga = report[['oob_score', 'ga_timetaken']]\n",
    "ga.columns = ['oob_score_percent', 'timetaken']\n",
    "ga['oob_score_percent'] = ga['oob_score_percent'].apply(lambda x: x*100)\n",
    "ga['type'] = 'Genetic Algo'\n",
    "ga"
   ]
  },
  {
   "cell_type": "code",
   "execution_count": 12,
   "metadata": {},
   "outputs": [
    {
     "name": "stderr",
     "output_type": "stream",
     "text": [
      "<ipython-input-12-270108fac586>:3: SettingWithCopyWarning: \n",
      "A value is trying to be set on a copy of a slice from a DataFrame.\n",
      "Try using .loc[row_indexer,col_indexer] = value instead\n",
      "\n",
      "See the caveats in the documentation: https://pandas.pydata.org/pandas-docs/stable/user_guide/indexing.html#returning-a-view-versus-a-copy\n",
      "  hy['oob_score_percent'] = hy['oob_score_percent'].apply(lambda x: x*100)\n",
      "<ipython-input-12-270108fac586>:4: SettingWithCopyWarning: \n",
      "A value is trying to be set on a copy of a slice from a DataFrame.\n",
      "Try using .loc[row_indexer,col_indexer] = value instead\n",
      "\n",
      "See the caveats in the documentation: https://pandas.pydata.org/pandas-docs/stable/user_guide/indexing.html#returning-a-view-versus-a-copy\n",
      "  hy['type'] = 'Hybrid Algo'\n"
     ]
    },
    {
     "data": {
      "text/html": [
       "<div>\n",
       "<style scoped>\n",
       "    .dataframe tbody tr th:only-of-type {\n",
       "        vertical-align: middle;\n",
       "    }\n",
       "\n",
       "    .dataframe tbody tr th {\n",
       "        vertical-align: top;\n",
       "    }\n",
       "\n",
       "    .dataframe thead th {\n",
       "        text-align: right;\n",
       "    }\n",
       "</style>\n",
       "<table border=\"1\" class=\"dataframe\">\n",
       "  <thead>\n",
       "    <tr style=\"text-align: right;\">\n",
       "      <th></th>\n",
       "      <th>oob_score_percent</th>\n",
       "      <th>timetaken</th>\n",
       "      <th>type</th>\n",
       "    </tr>\n",
       "  </thead>\n",
       "  <tbody>\n",
       "    <tr>\n",
       "      <th>0</th>\n",
       "      <td>71.428571</td>\n",
       "      <td>60.003971</td>\n",
       "      <td>Hybrid Algo</td>\n",
       "    </tr>\n",
       "    <tr>\n",
       "      <th>1</th>\n",
       "      <td>71.428571</td>\n",
       "      <td>58.477428</td>\n",
       "      <td>Hybrid Algo</td>\n",
       "    </tr>\n",
       "    <tr>\n",
       "      <th>2</th>\n",
       "      <td>71.428571</td>\n",
       "      <td>62.687554</td>\n",
       "      <td>Hybrid Algo</td>\n",
       "    </tr>\n",
       "    <tr>\n",
       "      <th>3</th>\n",
       "      <td>71.428571</td>\n",
       "      <td>61.453823</td>\n",
       "      <td>Hybrid Algo</td>\n",
       "    </tr>\n",
       "    <tr>\n",
       "      <th>4</th>\n",
       "      <td>71.428571</td>\n",
       "      <td>56.650117</td>\n",
       "      <td>Hybrid Algo</td>\n",
       "    </tr>\n",
       "    <tr>\n",
       "      <th>5</th>\n",
       "      <td>71.428571</td>\n",
       "      <td>71.313737</td>\n",
       "      <td>Hybrid Algo</td>\n",
       "    </tr>\n",
       "    <tr>\n",
       "      <th>6</th>\n",
       "      <td>71.428571</td>\n",
       "      <td>53.602943</td>\n",
       "      <td>Hybrid Algo</td>\n",
       "    </tr>\n",
       "    <tr>\n",
       "      <th>7</th>\n",
       "      <td>71.428571</td>\n",
       "      <td>58.460517</td>\n",
       "      <td>Hybrid Algo</td>\n",
       "    </tr>\n",
       "    <tr>\n",
       "      <th>8</th>\n",
       "      <td>71.428571</td>\n",
       "      <td>62.010509</td>\n",
       "      <td>Hybrid Algo</td>\n",
       "    </tr>\n",
       "    <tr>\n",
       "      <th>9</th>\n",
       "      <td>71.428571</td>\n",
       "      <td>62.034771</td>\n",
       "      <td>Hybrid Algo</td>\n",
       "    </tr>\n",
       "    <tr>\n",
       "      <th>10</th>\n",
       "      <td>71.428571</td>\n",
       "      <td>63.804570</td>\n",
       "      <td>Hybrid Algo</td>\n",
       "    </tr>\n",
       "    <tr>\n",
       "      <th>11</th>\n",
       "      <td>71.428571</td>\n",
       "      <td>57.217350</td>\n",
       "      <td>Hybrid Algo</td>\n",
       "    </tr>\n",
       "    <tr>\n",
       "      <th>12</th>\n",
       "      <td>71.428571</td>\n",
       "      <td>52.237055</td>\n",
       "      <td>Hybrid Algo</td>\n",
       "    </tr>\n",
       "    <tr>\n",
       "      <th>13</th>\n",
       "      <td>71.428571</td>\n",
       "      <td>64.733122</td>\n",
       "      <td>Hybrid Algo</td>\n",
       "    </tr>\n",
       "    <tr>\n",
       "      <th>14</th>\n",
       "      <td>71.428571</td>\n",
       "      <td>63.680074</td>\n",
       "      <td>Hybrid Algo</td>\n",
       "    </tr>\n",
       "    <tr>\n",
       "      <th>15</th>\n",
       "      <td>71.428571</td>\n",
       "      <td>56.280142</td>\n",
       "      <td>Hybrid Algo</td>\n",
       "    </tr>\n",
       "    <tr>\n",
       "      <th>16</th>\n",
       "      <td>71.428571</td>\n",
       "      <td>68.652930</td>\n",
       "      <td>Hybrid Algo</td>\n",
       "    </tr>\n",
       "    <tr>\n",
       "      <th>17</th>\n",
       "      <td>71.428571</td>\n",
       "      <td>66.587979</td>\n",
       "      <td>Hybrid Algo</td>\n",
       "    </tr>\n",
       "    <tr>\n",
       "      <th>18</th>\n",
       "      <td>71.428571</td>\n",
       "      <td>53.061013</td>\n",
       "      <td>Hybrid Algo</td>\n",
       "    </tr>\n",
       "    <tr>\n",
       "      <th>19</th>\n",
       "      <td>71.428571</td>\n",
       "      <td>55.194014</td>\n",
       "      <td>Hybrid Algo</td>\n",
       "    </tr>\n",
       "    <tr>\n",
       "      <th>20</th>\n",
       "      <td>69.841270</td>\n",
       "      <td>55.123949</td>\n",
       "      <td>Hybrid Algo</td>\n",
       "    </tr>\n",
       "    <tr>\n",
       "      <th>21</th>\n",
       "      <td>71.428571</td>\n",
       "      <td>55.372639</td>\n",
       "      <td>Hybrid Algo</td>\n",
       "    </tr>\n",
       "    <tr>\n",
       "      <th>22</th>\n",
       "      <td>70.370370</td>\n",
       "      <td>67.998234</td>\n",
       "      <td>Hybrid Algo</td>\n",
       "    </tr>\n",
       "    <tr>\n",
       "      <th>23</th>\n",
       "      <td>71.428571</td>\n",
       "      <td>66.167080</td>\n",
       "      <td>Hybrid Algo</td>\n",
       "    </tr>\n",
       "    <tr>\n",
       "      <th>24</th>\n",
       "      <td>71.428571</td>\n",
       "      <td>66.035027</td>\n",
       "      <td>Hybrid Algo</td>\n",
       "    </tr>\n",
       "    <tr>\n",
       "      <th>25</th>\n",
       "      <td>71.428571</td>\n",
       "      <td>54.433986</td>\n",
       "      <td>Hybrid Algo</td>\n",
       "    </tr>\n",
       "    <tr>\n",
       "      <th>26</th>\n",
       "      <td>71.428571</td>\n",
       "      <td>58.941278</td>\n",
       "      <td>Hybrid Algo</td>\n",
       "    </tr>\n",
       "    <tr>\n",
       "      <th>27</th>\n",
       "      <td>71.428571</td>\n",
       "      <td>55.309414</td>\n",
       "      <td>Hybrid Algo</td>\n",
       "    </tr>\n",
       "    <tr>\n",
       "      <th>28</th>\n",
       "      <td>71.428571</td>\n",
       "      <td>59.297411</td>\n",
       "      <td>Hybrid Algo</td>\n",
       "    </tr>\n",
       "    <tr>\n",
       "      <th>29</th>\n",
       "      <td>71.428571</td>\n",
       "      <td>56.677271</td>\n",
       "      <td>Hybrid Algo</td>\n",
       "    </tr>\n",
       "    <tr>\n",
       "      <th>30</th>\n",
       "      <td>71.428571</td>\n",
       "      <td>51.647724</td>\n",
       "      <td>Hybrid Algo</td>\n",
       "    </tr>\n",
       "    <tr>\n",
       "      <th>31</th>\n",
       "      <td>71.428571</td>\n",
       "      <td>57.104460</td>\n",
       "      <td>Hybrid Algo</td>\n",
       "    </tr>\n",
       "    <tr>\n",
       "      <th>32</th>\n",
       "      <td>69.841270</td>\n",
       "      <td>53.439050</td>\n",
       "      <td>Hybrid Algo</td>\n",
       "    </tr>\n",
       "    <tr>\n",
       "      <th>33</th>\n",
       "      <td>71.428571</td>\n",
       "      <td>52.219450</td>\n",
       "      <td>Hybrid Algo</td>\n",
       "    </tr>\n",
       "    <tr>\n",
       "      <th>34</th>\n",
       "      <td>69.841270</td>\n",
       "      <td>57.884727</td>\n",
       "      <td>Hybrid Algo</td>\n",
       "    </tr>\n",
       "    <tr>\n",
       "      <th>35</th>\n",
       "      <td>71.428571</td>\n",
       "      <td>57.432580</td>\n",
       "      <td>Hybrid Algo</td>\n",
       "    </tr>\n",
       "    <tr>\n",
       "      <th>36</th>\n",
       "      <td>71.428571</td>\n",
       "      <td>71.448677</td>\n",
       "      <td>Hybrid Algo</td>\n",
       "    </tr>\n",
       "    <tr>\n",
       "      <th>37</th>\n",
       "      <td>71.428571</td>\n",
       "      <td>63.311885</td>\n",
       "      <td>Hybrid Algo</td>\n",
       "    </tr>\n",
       "    <tr>\n",
       "      <th>38</th>\n",
       "      <td>71.428571</td>\n",
       "      <td>69.116207</td>\n",
       "      <td>Hybrid Algo</td>\n",
       "    </tr>\n",
       "  </tbody>\n",
       "</table>\n",
       "</div>"
      ],
      "text/plain": [
       "    oob_score_percent  timetaken         type\n",
       "0           71.428571  60.003971  Hybrid Algo\n",
       "1           71.428571  58.477428  Hybrid Algo\n",
       "2           71.428571  62.687554  Hybrid Algo\n",
       "3           71.428571  61.453823  Hybrid Algo\n",
       "4           71.428571  56.650117  Hybrid Algo\n",
       "5           71.428571  71.313737  Hybrid Algo\n",
       "6           71.428571  53.602943  Hybrid Algo\n",
       "7           71.428571  58.460517  Hybrid Algo\n",
       "8           71.428571  62.010509  Hybrid Algo\n",
       "9           71.428571  62.034771  Hybrid Algo\n",
       "10          71.428571  63.804570  Hybrid Algo\n",
       "11          71.428571  57.217350  Hybrid Algo\n",
       "12          71.428571  52.237055  Hybrid Algo\n",
       "13          71.428571  64.733122  Hybrid Algo\n",
       "14          71.428571  63.680074  Hybrid Algo\n",
       "15          71.428571  56.280142  Hybrid Algo\n",
       "16          71.428571  68.652930  Hybrid Algo\n",
       "17          71.428571  66.587979  Hybrid Algo\n",
       "18          71.428571  53.061013  Hybrid Algo\n",
       "19          71.428571  55.194014  Hybrid Algo\n",
       "20          69.841270  55.123949  Hybrid Algo\n",
       "21          71.428571  55.372639  Hybrid Algo\n",
       "22          70.370370  67.998234  Hybrid Algo\n",
       "23          71.428571  66.167080  Hybrid Algo\n",
       "24          71.428571  66.035027  Hybrid Algo\n",
       "25          71.428571  54.433986  Hybrid Algo\n",
       "26          71.428571  58.941278  Hybrid Algo\n",
       "27          71.428571  55.309414  Hybrid Algo\n",
       "28          71.428571  59.297411  Hybrid Algo\n",
       "29          71.428571  56.677271  Hybrid Algo\n",
       "30          71.428571  51.647724  Hybrid Algo\n",
       "31          71.428571  57.104460  Hybrid Algo\n",
       "32          69.841270  53.439050  Hybrid Algo\n",
       "33          71.428571  52.219450  Hybrid Algo\n",
       "34          69.841270  57.884727  Hybrid Algo\n",
       "35          71.428571  57.432580  Hybrid Algo\n",
       "36          71.428571  71.448677  Hybrid Algo\n",
       "37          71.428571  63.311885  Hybrid Algo\n",
       "38          71.428571  69.116207  Hybrid Algo"
      ]
     },
     "execution_count": 12,
     "metadata": {},
     "output_type": "execute_result"
    }
   ],
   "source": [
    "hy = report[['hybrid_oob_score', 'hybrid_timetaken']]\n",
    "hy.columns = ['oob_score_percent', 'timetaken']\n",
    "hy['oob_score_percent'] = hy['oob_score_percent'].apply(lambda x: x*100)\n",
    "hy['type'] = 'Hybrid Algo'\n",
    "hy"
   ]
  },
  {
   "cell_type": "code",
   "execution_count": 13,
   "metadata": {},
   "outputs": [
    {
     "data": {
      "text/plain": [
       "(78, 3)"
      ]
     },
     "metadata": {},
     "output_type": "display_data"
    },
    {
     "data": {
      "text/html": [
       "<div>\n",
       "<style scoped>\n",
       "    .dataframe tbody tr th:only-of-type {\n",
       "        vertical-align: middle;\n",
       "    }\n",
       "\n",
       "    .dataframe tbody tr th {\n",
       "        vertical-align: top;\n",
       "    }\n",
       "\n",
       "    .dataframe thead th {\n",
       "        text-align: right;\n",
       "    }\n",
       "</style>\n",
       "<table border=\"1\" class=\"dataframe\">\n",
       "  <thead>\n",
       "    <tr style=\"text-align: right;\">\n",
       "      <th></th>\n",
       "      <th>oob_score_percent</th>\n",
       "      <th>timetaken</th>\n",
       "      <th>type</th>\n",
       "    </tr>\n",
       "  </thead>\n",
       "  <tbody>\n",
       "    <tr>\n",
       "      <th>22</th>\n",
       "      <td>71.428571</td>\n",
       "      <td>13.502628</td>\n",
       "      <td>Genetic Algo</td>\n",
       "    </tr>\n",
       "    <tr>\n",
       "      <th>24</th>\n",
       "      <td>71.428571</td>\n",
       "      <td>66.035027</td>\n",
       "      <td>Hybrid Algo</td>\n",
       "    </tr>\n",
       "    <tr>\n",
       "      <th>38</th>\n",
       "      <td>67.195767</td>\n",
       "      <td>11.800297</td>\n",
       "      <td>Genetic Algo</td>\n",
       "    </tr>\n",
       "    <tr>\n",
       "      <th>2</th>\n",
       "      <td>71.428571</td>\n",
       "      <td>62.687554</td>\n",
       "      <td>Hybrid Algo</td>\n",
       "    </tr>\n",
       "    <tr>\n",
       "      <th>22</th>\n",
       "      <td>70.370370</td>\n",
       "      <td>67.998234</td>\n",
       "      <td>Hybrid Algo</td>\n",
       "    </tr>\n",
       "    <tr>\n",
       "      <th>9</th>\n",
       "      <td>70.899471</td>\n",
       "      <td>12.881294</td>\n",
       "      <td>Genetic Algo</td>\n",
       "    </tr>\n",
       "    <tr>\n",
       "      <th>11</th>\n",
       "      <td>71.428571</td>\n",
       "      <td>57.217350</td>\n",
       "      <td>Hybrid Algo</td>\n",
       "    </tr>\n",
       "    <tr>\n",
       "      <th>37</th>\n",
       "      <td>68.253968</td>\n",
       "      <td>11.901170</td>\n",
       "      <td>Genetic Algo</td>\n",
       "    </tr>\n",
       "    <tr>\n",
       "      <th>5</th>\n",
       "      <td>70.899471</td>\n",
       "      <td>16.057838</td>\n",
       "      <td>Genetic Algo</td>\n",
       "    </tr>\n",
       "    <tr>\n",
       "      <th>10</th>\n",
       "      <td>71.428571</td>\n",
       "      <td>63.804570</td>\n",
       "      <td>Hybrid Algo</td>\n",
       "    </tr>\n",
       "  </tbody>\n",
       "</table>\n",
       "</div>"
      ],
      "text/plain": [
       "    oob_score_percent  timetaken          type\n",
       "22          71.428571  13.502628  Genetic Algo\n",
       "24          71.428571  66.035027   Hybrid Algo\n",
       "38          67.195767  11.800297  Genetic Algo\n",
       "2           71.428571  62.687554   Hybrid Algo\n",
       "22          70.370370  67.998234   Hybrid Algo\n",
       "9           70.899471  12.881294  Genetic Algo\n",
       "11          71.428571  57.217350   Hybrid Algo\n",
       "37          68.253968  11.901170  Genetic Algo\n",
       "5           70.899471  16.057838  Genetic Algo\n",
       "10          71.428571  63.804570   Hybrid Algo"
      ]
     },
     "execution_count": 13,
     "metadata": {},
     "output_type": "execute_result"
    }
   ],
   "source": [
    "final_report = pd.concat([ga, hy])\n",
    "display(final_report.shape)\n",
    "final_report.sample(10)"
   ]
  },
  {
   "cell_type": "code",
   "execution_count": 14,
   "metadata": {},
   "outputs": [
    {
     "data": {
      "text/html": [
       "<div>\n",
       "<style scoped>\n",
       "    .dataframe tbody tr th:only-of-type {\n",
       "        vertical-align: middle;\n",
       "    }\n",
       "\n",
       "    .dataframe tbody tr th {\n",
       "        vertical-align: top;\n",
       "    }\n",
       "\n",
       "    .dataframe thead th {\n",
       "        text-align: right;\n",
       "    }\n",
       "</style>\n",
       "<table border=\"1\" class=\"dataframe\">\n",
       "  <thead>\n",
       "    <tr style=\"text-align: right;\">\n",
       "      <th></th>\n",
       "      <th>type</th>\n",
       "      <th>oob_score_percent</th>\n",
       "      <th>timetaken</th>\n",
       "    </tr>\n",
       "  </thead>\n",
       "  <tbody>\n",
       "    <tr>\n",
       "      <th>0</th>\n",
       "      <td>Genetic Algo</td>\n",
       "      <td>69.529236</td>\n",
       "      <td>11.504799</td>\n",
       "    </tr>\n",
       "    <tr>\n",
       "      <th>1</th>\n",
       "      <td>Hybrid Algo</td>\n",
       "      <td>71.279338</td>\n",
       "      <td>59.925761</td>\n",
       "    </tr>\n",
       "  </tbody>\n",
       "</table>\n",
       "</div>"
      ],
      "text/plain": [
       "           type  oob_score_percent  timetaken\n",
       "0  Genetic Algo          69.529236  11.504799\n",
       "1   Hybrid Algo          71.279338  59.925761"
      ]
     },
     "execution_count": 14,
     "metadata": {},
     "output_type": "execute_result"
    }
   ],
   "source": [
    "meanFR = final_report.groupby(['type']).mean().reset_index()\n",
    "meanFR"
   ]
  },
  {
   "cell_type": "code",
   "execution_count": 16,
   "metadata": {},
   "outputs": [
    {
     "data": {
      "text/html": [
       "<div>\n",
       "<style scoped>\n",
       "    .dataframe tbody tr th:only-of-type {\n",
       "        vertical-align: middle;\n",
       "    }\n",
       "\n",
       "    .dataframe tbody tr th {\n",
       "        vertical-align: top;\n",
       "    }\n",
       "\n",
       "    .dataframe thead th {\n",
       "        text-align: right;\n",
       "    }\n",
       "</style>\n",
       "<table border=\"1\" class=\"dataframe\">\n",
       "  <thead>\n",
       "    <tr style=\"text-align: right;\">\n",
       "      <th></th>\n",
       "      <th>type</th>\n",
       "      <th>oob_score_percent</th>\n",
       "      <th>timetaken</th>\n",
       "    </tr>\n",
       "  </thead>\n",
       "  <tbody>\n",
       "    <tr>\n",
       "      <th>0</th>\n",
       "      <td>Genetic Algo</td>\n",
       "      <td>69.841270</td>\n",
       "      <td>11.800297</td>\n",
       "    </tr>\n",
       "    <tr>\n",
       "      <th>1</th>\n",
       "      <td>Hybrid Algo</td>\n",
       "      <td>71.428571</td>\n",
       "      <td>58.477428</td>\n",
       "    </tr>\n",
       "  </tbody>\n",
       "</table>\n",
       "</div>"
      ],
      "text/plain": [
       "           type  oob_score_percent  timetaken\n",
       "0  Genetic Algo          69.841270  11.800297\n",
       "1   Hybrid Algo          71.428571  58.477428"
      ]
     },
     "execution_count": 16,
     "metadata": {},
     "output_type": "execute_result"
    }
   ],
   "source": [
    "medianFR = final_report.groupby(['type']).median().reset_index()\n",
    "medianFR"
   ]
  },
  {
   "cell_type": "code",
   "execution_count": 18,
   "metadata": {},
   "outputs": [
    {
     "data": {
      "text/html": [
       "<div>\n",
       "<style scoped>\n",
       "    .dataframe tbody tr th:only-of-type {\n",
       "        vertical-align: middle;\n",
       "    }\n",
       "\n",
       "    .dataframe tbody tr th {\n",
       "        vertical-align: top;\n",
       "    }\n",
       "\n",
       "    .dataframe thead tr th {\n",
       "        text-align: left;\n",
       "    }\n",
       "</style>\n",
       "<table border=\"1\" class=\"dataframe\">\n",
       "  <thead>\n",
       "    <tr>\n",
       "      <th></th>\n",
       "      <th>type</th>\n",
       "      <th colspan=\"8\" halign=\"left\">oob_score_percent</th>\n",
       "      <th colspan=\"8\" halign=\"left\">timetaken</th>\n",
       "    </tr>\n",
       "    <tr>\n",
       "      <th></th>\n",
       "      <th></th>\n",
       "      <th>count</th>\n",
       "      <th>mean</th>\n",
       "      <th>std</th>\n",
       "      <th>min</th>\n",
       "      <th>25%</th>\n",
       "      <th>50%</th>\n",
       "      <th>75%</th>\n",
       "      <th>max</th>\n",
       "      <th>count</th>\n",
       "      <th>mean</th>\n",
       "      <th>std</th>\n",
       "      <th>min</th>\n",
       "      <th>25%</th>\n",
       "      <th>50%</th>\n",
       "      <th>75%</th>\n",
       "      <th>max</th>\n",
       "    </tr>\n",
       "  </thead>\n",
       "  <tbody>\n",
       "    <tr>\n",
       "      <th>0</th>\n",
       "      <td>Genetic Algo</td>\n",
       "      <td>39.0</td>\n",
       "      <td>69.529236</td>\n",
       "      <td>1.723986</td>\n",
       "      <td>66.137566</td>\n",
       "      <td>67.989418</td>\n",
       "      <td>69.841270</td>\n",
       "      <td>70.899471</td>\n",
       "      <td>71.428571</td>\n",
       "      <td>39.0</td>\n",
       "      <td>11.504799</td>\n",
       "      <td>2.713712</td>\n",
       "      <td>5.572426</td>\n",
       "      <td>9.652032</td>\n",
       "      <td>11.800297</td>\n",
       "      <td>13.607457</td>\n",
       "      <td>16.057838</td>\n",
       "    </tr>\n",
       "    <tr>\n",
       "      <th>1</th>\n",
       "      <td>Hybrid Algo</td>\n",
       "      <td>39.0</td>\n",
       "      <td>71.279338</td>\n",
       "      <td>0.453345</td>\n",
       "      <td>69.841270</td>\n",
       "      <td>71.428571</td>\n",
       "      <td>71.428571</td>\n",
       "      <td>71.428571</td>\n",
       "      <td>71.428571</td>\n",
       "      <td>39.0</td>\n",
       "      <td>59.925761</td>\n",
       "      <td>5.598670</td>\n",
       "      <td>51.647724</td>\n",
       "      <td>55.341027</td>\n",
       "      <td>58.477428</td>\n",
       "      <td>63.742322</td>\n",
       "      <td>71.448677</td>\n",
       "    </tr>\n",
       "  </tbody>\n",
       "</table>\n",
       "</div>"
      ],
      "text/plain": [
       "           type oob_score_percent                                             \\\n",
       "                            count       mean       std        min        25%   \n",
       "0  Genetic Algo              39.0  69.529236  1.723986  66.137566  67.989418   \n",
       "1   Hybrid Algo              39.0  71.279338  0.453345  69.841270  71.428571   \n",
       "\n",
       "                                   timetaken                                  \\\n",
       "         50%        75%        max     count       mean       std        min   \n",
       "0  69.841270  70.899471  71.428571      39.0  11.504799  2.713712   5.572426   \n",
       "1  71.428571  71.428571  71.428571      39.0  59.925761  5.598670  51.647724   \n",
       "\n",
       "                                               \n",
       "         25%        50%        75%        max  \n",
       "0   9.652032  11.800297  13.607457  16.057838  \n",
       "1  55.341027  58.477428  63.742322  71.448677  "
      ]
     },
     "execution_count": 18,
     "metadata": {},
     "output_type": "execute_result"
    }
   ],
   "source": [
    "final_report.groupby(['type']).describe().reset_index()"
   ]
  },
  {
   "cell_type": "code",
   "execution_count": 16,
   "metadata": {},
   "outputs": [
    {
     "data": {
      "text/plain": [
       "<matplotlib.axes._subplots.AxesSubplot at 0x1dda3699e50>"
      ]
     },
     "execution_count": 16,
     "metadata": {},
     "output_type": "execute_result"
    },
    {
     "data": {
      "image/png": "[encoded data removed]",
      "text/plain": [
       "<Figure size 432x288 with 1 Axes>"
      ]
     },
     "metadata": {
      "needs_background": "light"
     },
     "output_type": "display_data"
    }
   ],
   "source": [
    "# # plotting Height\n",
    "# ax = meanFR.plot(x=\"type\", y=\"oob_score_percent\", kind=\"bar\")\n",
    "# # plotting age on the same axis\n",
    "# meanFR.plot(x=\"type\", y=\"timetaken\", kind=\"bar\", ax=ax, color=\"orange\")\n",
    "meanFR.plot(x=\"type\", y=[\"oob_score_percent\", \"timetaken\"], kind=\"bar\")"
   ]
  },
  {
   "attachments": {},
   "cell_type": "markdown",
   "metadata": {},
   "source": [
    "#### Understanding the plot of (score) and (time taken to calc the score) by Genetic algorithm and Simulated Anneling algorithm"
   ]
  },
  {
   "cell_type": "code",
   "execution_count": 17,
   "metadata": {},
   "outputs": [
    {
     "data": {
      "text/plain": [
       "<matplotlib.axes._subplots.AxesSubplot at 0x1dda3755ca0>"
      ]
     },
     "execution_count": 17,
     "metadata": {},
     "output_type": "execute_result"
    },
    {
     "data": {
      "image/png": "[encoded data removed]",
      "text/plain": [
       "<Figure size 432x288 with 1 Axes>"
      ]
     },
     "metadata": {
      "needs_background": "light"
     },
     "output_type": "display_data"
    },
    {
     "data": {
      "image/png": "[encoded data removed]",
      "text/plain": [
       "<Figure size 432x288 with 1 Axes>"
      ]
     },
     "metadata": {
      "needs_background": "light"
     },
     "output_type": "display_data"
    },
    {
     "data": {
      "image/png": "[encoded data removed]",
      "text/plain": [
       "<Figure size 432x288 with 1 Axes>"
      ]
     },
     "metadata": {
      "needs_background": "light"
     },
     "output_type": "display_data"
    }
   ],
   "source": [
    "ga.plot()\n",
    "hy.plot()\n",
    "gscv_report_imp.plot()"
   ]
  },
  {
   "attachments": {},
   "cell_type": "markdown",
   "metadata": {},
   "source": [
    "#### Understanding the (score/fitness) by Genetic algorithm and Simulated Anneling algorithm <br/> and (time taken to calc the score) by Genetic algorithm and Simulated Anneling algorithm"
   ]
  },
  {
   "cell_type": "code",
   "execution_count": 18,
   "metadata": {},
   "outputs": [
    {
     "name": "stderr",
     "output_type": "stream",
     "text": [
      "c:\\Users\\Jegadit\\anaconda3\\lib\\site-packages\\seaborn\\axisgrid.py:316: UserWarning: The `size` parameter has been renamed to `height`; please update your code.\n",
      "  warnings.warn(msg, UserWarning)\n",
      "c:\\Users\\Jegadit\\anaconda3\\lib\\site-packages\\seaborn\\axisgrid.py:676: FutureWarning: iteritems is deprecated and will be removed in a future version. Use .items instead.\n",
      "  plot_args = [v for k, v in plot_data.iteritems()]\n",
      "c:\\Users\\Jegadit\\anaconda3\\lib\\site-packages\\seaborn\\axisgrid.py:676: FutureWarning: iteritems is deprecated and will be removed in a future version. Use .items instead.\n",
      "  plot_args = [v for k, v in plot_data.iteritems()]\n",
      "c:\\Users\\Jegadit\\anaconda3\\lib\\site-packages\\seaborn\\axisgrid.py:316: UserWarning: The `size` parameter has been renamed to `height`; please update your code.\n",
      "  warnings.warn(msg, UserWarning)\n",
      "c:\\Users\\Jegadit\\anaconda3\\lib\\site-packages\\seaborn\\axisgrid.py:676: FutureWarning: iteritems is deprecated and will be removed in a future version. Use .items instead.\n",
      "  plot_args = [v for k, v in plot_data.iteritems()]\n",
      "c:\\Users\\Jegadit\\anaconda3\\lib\\site-packages\\seaborn\\axisgrid.py:676: FutureWarning: iteritems is deprecated and will be removed in a future version. Use .items instead.\n",
      "  plot_args = [v for k, v in plot_data.iteritems()]\n"
     ]
    },
    {
     "data": {
      "text/plain": [
       "<seaborn.axisgrid.FacetGrid at 0x1dda38e5d60>"
      ]
     },
     "execution_count": 18,
     "metadata": {},
     "output_type": "execute_result"
    },
    {
     "data": {
      "image/png": "[encoded data removed]",
      "text/plain": [
       "<Figure size 459.875x360 with 1 Axes>"
      ]
     },
     "metadata": {
      "needs_background": "light"
     },
     "output_type": "display_data"
    },
    {
     "data": {
      "image/png": "[encoded data removed]",
      "text/plain": [
       "<Figure size 459.875x360 with 1 Axes>"
      ]
     },
     "metadata": {
      "needs_background": "light"
     },
     "output_type": "display_data"
    }
   ],
   "source": [
    "g = sns.FacetGrid(final_report, hue=\"type\", size=5)\n",
    "g.map(plt.plot, \"oob_score_percent\")\n",
    "g.add_legend()\n",
    "\n",
    "g = sns.FacetGrid(final_report, hue=\"type\", size=5)\n",
    "g.map(plt.plot, \"timetaken\")\n",
    "g.add_legend()"
   ]
  },
  {
   "cell_type": "code",
   "execution_count": 19,
   "metadata": {},
   "outputs": [
    {
     "data": {
      "image/png": "[encoded data removed]",
      "text/plain": [
       "<Figure size 720x360 with 1 Axes>"
      ]
     },
     "metadata": {
      "needs_background": "light"
     },
     "output_type": "display_data"
    },
    {
     "data": {
      "image/png": "[encoded data removed]",
      "text/plain": [
       "<Figure size 720x360 with 1 Axes>"
      ]
     },
     "metadata": {
      "needs_background": "light"
     },
     "output_type": "display_data"
    }
   ],
   "source": [
    "ga.plot(kind='box', vert=False, figsize=[10,5])\n",
    "plt.title('Performance Analysis of Genetic Algorithm')\n",
    "plt.show()\n",
    "\n",
    "hy.plot(kind='box', vert=False ,figsize=[10,5])\n",
    "plt.title('Performance Analysis of Hybrid Algorithm')\n",
    "plt.show()"
   ]
  },
  {
   "cell_type": "code",
   "execution_count": 28,
   "metadata": {},
   "outputs": [
    {
     "data": {
      "text/html": [
       "<div>\n",
       "<style scoped>\n",
       "    .dataframe tbody tr th:only-of-type {\n",
       "        vertical-align: middle;\n",
       "    }\n",
       "\n",
       "    .dataframe tbody tr th {\n",
       "        vertical-align: top;\n",
       "    }\n",
       "\n",
       "    .dataframe thead th {\n",
       "        text-align: right;\n",
       "    }\n",
       "</style>\n",
       "<table border=\"1\" class=\"dataframe\">\n",
       "  <thead>\n",
       "    <tr style=\"text-align: right;\">\n",
       "      <th></th>\n",
       "      <th>combos</th>\n",
       "      <th>cv_cnt</th>\n",
       "      <th>oob_score</th>\n",
       "      <th>classifier_score</th>\n",
       "      <th>time-taken</th>\n",
       "    </tr>\n",
       "  </thead>\n",
       "  <tbody>\n",
       "    <tr>\n",
       "      <th>0</th>\n",
       "      <td>180</td>\n",
       "      <td>10</td>\n",
       "      <td>67.195767</td>\n",
       "      <td>0.62963</td>\n",
       "      <td>63.822724</td>\n",
       "    </tr>\n",
       "    <tr>\n",
       "      <th>1</th>\n",
       "      <td>180</td>\n",
       "      <td>5</td>\n",
       "      <td>67.195767</td>\n",
       "      <td>0.62963</td>\n",
       "      <td>69.873795</td>\n",
       "    </tr>\n",
       "    <tr>\n",
       "      <th>2</th>\n",
       "      <td>180</td>\n",
       "      <td>6</td>\n",
       "      <td>67.195767</td>\n",
       "      <td>0.62963</td>\n",
       "      <td>62.151759</td>\n",
       "    </tr>\n",
       "    <tr>\n",
       "      <th>3</th>\n",
       "      <td>180</td>\n",
       "      <td>1</td>\n",
       "      <td>67.195767</td>\n",
       "      <td>0.62963</td>\n",
       "      <td>80.855480</td>\n",
       "    </tr>\n",
       "    <tr>\n",
       "      <th>4</th>\n",
       "      <td>180</td>\n",
       "      <td>10</td>\n",
       "      <td>67.195767</td>\n",
       "      <td>0.62963</td>\n",
       "      <td>79.011138</td>\n",
       "    </tr>\n",
       "    <tr>\n",
       "      <th>5</th>\n",
       "      <td>180</td>\n",
       "      <td>0</td>\n",
       "      <td>67.195767</td>\n",
       "      <td>0.62963</td>\n",
       "      <td>63.788210</td>\n",
       "    </tr>\n",
       "    <tr>\n",
       "      <th>6</th>\n",
       "      <td>180</td>\n",
       "      <td>1</td>\n",
       "      <td>67.195767</td>\n",
       "      <td>0.62963</td>\n",
       "      <td>58.284040</td>\n",
       "    </tr>\n",
       "    <tr>\n",
       "      <th>7</th>\n",
       "      <td>180</td>\n",
       "      <td>6</td>\n",
       "      <td>67.195767</td>\n",
       "      <td>0.62963</td>\n",
       "      <td>63.967118</td>\n",
       "    </tr>\n",
       "    <tr>\n",
       "      <th>8</th>\n",
       "      <td>180</td>\n",
       "      <td>9</td>\n",
       "      <td>67.195767</td>\n",
       "      <td>0.62963</td>\n",
       "      <td>75.165589</td>\n",
       "    </tr>\n",
       "  </tbody>\n",
       "</table>\n",
       "</div>"
      ],
      "text/plain": [
       "   combos  cv_cnt  oob_score  classifier_score  time-taken\n",
       "0     180      10  67.195767           0.62963   63.822724\n",
       "1     180       5  67.195767           0.62963   69.873795\n",
       "2     180       6  67.195767           0.62963   62.151759\n",
       "3     180       1  67.195767           0.62963   80.855480\n",
       "4     180      10  67.195767           0.62963   79.011138\n",
       "5     180       0  67.195767           0.62963   63.788210\n",
       "6     180       1  67.195767           0.62963   58.284040\n",
       "7     180       6  67.195767           0.62963   63.967118\n",
       "8     180       9  67.195767           0.62963   75.165589"
      ]
     },
     "execution_count": 28,
     "metadata": {},
     "output_type": "execute_result"
    }
   ],
   "source": [
    "initRep = pd.read_csv('Report/initialReport_2022-12-28.csv')\n",
    "initRep['oob_score'] = initRep['oob_score'] * 100\n",
    "initRep"
   ]
  },
  {
   "cell_type": "code",
   "execution_count": 43,
   "metadata": {},
   "outputs": [
    {
     "data": {
      "text/html": [
       "<div>\n",
       "<style scoped>\n",
       "    .dataframe tbody tr th:only-of-type {\n",
       "        vertical-align: middle;\n",
       "    }\n",
       "\n",
       "    .dataframe tbody tr th {\n",
       "        vertical-align: top;\n",
       "    }\n",
       "\n",
       "    .dataframe thead th {\n",
       "        text-align: right;\n",
       "    }\n",
       "</style>\n",
       "<table border=\"1\" class=\"dataframe\">\n",
       "  <thead>\n",
       "    <tr style=\"text-align: right;\">\n",
       "      <th></th>\n",
       "      <th>combos</th>\n",
       "      <th>cv_cnt</th>\n",
       "      <th>oob_score</th>\n",
       "      <th>classifier_score</th>\n",
       "      <th>time-taken</th>\n",
       "    </tr>\n",
       "  </thead>\n",
       "  <tbody>\n",
       "    <tr>\n",
       "      <th>count</th>\n",
       "      <td>9.0</td>\n",
       "      <td>9.000000</td>\n",
       "      <td>9.000000e+00</td>\n",
       "      <td>9.000000e+00</td>\n",
       "      <td>9.000000</td>\n",
       "    </tr>\n",
       "    <tr>\n",
       "      <th>mean</th>\n",
       "      <td>180.0</td>\n",
       "      <td>5.333333</td>\n",
       "      <td>6.719577e+01</td>\n",
       "      <td>6.296296e-01</td>\n",
       "      <td>68.546650</td>\n",
       "    </tr>\n",
       "    <tr>\n",
       "      <th>std</th>\n",
       "      <td>0.0</td>\n",
       "      <td>3.937004</td>\n",
       "      <td>1.410934e-09</td>\n",
       "      <td>1.234568e-10</td>\n",
       "      <td>8.052411</td>\n",
       "    </tr>\n",
       "    <tr>\n",
       "      <th>min</th>\n",
       "      <td>180.0</td>\n",
       "      <td>0.000000</td>\n",
       "      <td>6.719577e+01</td>\n",
       "      <td>6.296296e-01</td>\n",
       "      <td>58.284040</td>\n",
       "    </tr>\n",
       "    <tr>\n",
       "      <th>25%</th>\n",
       "      <td>180.0</td>\n",
       "      <td>1.000000</td>\n",
       "      <td>6.719577e+01</td>\n",
       "      <td>6.296296e-01</td>\n",
       "      <td>63.788210</td>\n",
       "    </tr>\n",
       "    <tr>\n",
       "      <th>50%</th>\n",
       "      <td>180.0</td>\n",
       "      <td>6.000000</td>\n",
       "      <td>6.719577e+01</td>\n",
       "      <td>6.296296e-01</td>\n",
       "      <td>63.967118</td>\n",
       "    </tr>\n",
       "    <tr>\n",
       "      <th>75%</th>\n",
       "      <td>180.0</td>\n",
       "      <td>9.000000</td>\n",
       "      <td>6.719577e+01</td>\n",
       "      <td>6.296296e-01</td>\n",
       "      <td>75.165589</td>\n",
       "    </tr>\n",
       "    <tr>\n",
       "      <th>max</th>\n",
       "      <td>180.0</td>\n",
       "      <td>10.000000</td>\n",
       "      <td>6.719577e+01</td>\n",
       "      <td>6.296296e-01</td>\n",
       "      <td>80.855480</td>\n",
       "    </tr>\n",
       "  </tbody>\n",
       "</table>\n",
       "</div>"
      ],
      "text/plain": [
       "       combos     cv_cnt     oob_score  classifier_score  time-taken\n",
       "count     9.0   9.000000  9.000000e+00      9.000000e+00    9.000000\n",
       "mean    180.0   5.333333  6.719577e+01      6.296296e-01   68.546650\n",
       "std       0.0   3.937004  1.410934e-09      1.234568e-10    8.052411\n",
       "min     180.0   0.000000  6.719577e+01      6.296296e-01   58.284040\n",
       "25%     180.0   1.000000  6.719577e+01      6.296296e-01   63.788210\n",
       "50%     180.0   6.000000  6.719577e+01      6.296296e-01   63.967118\n",
       "75%     180.0   9.000000  6.719577e+01      6.296296e-01   75.165589\n",
       "max     180.0  10.000000  6.719577e+01      6.296296e-01   80.855480"
      ]
     },
     "execution_count": 43,
     "metadata": {},
     "output_type": "execute_result"
    }
   ],
   "source": [
    "initRep.describe()"
   ]
  },
  {
   "cell_type": "code",
   "execution_count": 53,
   "metadata": {},
   "outputs": [
    {
     "data": {
      "text/plain": [
       "68.5466504094378"
      ]
     },
     "metadata": {},
     "output_type": "display_data"
    },
    {
     "data": {
      "text/plain": [
       "67.19576719623753"
      ]
     },
     "metadata": {},
     "output_type": "display_data"
    },
    {
     "data": {
      "text/plain": [
       "59.92576066041604"
      ]
     },
     "metadata": {},
     "output_type": "display_data"
    },
    {
     "data": {
      "text/plain": [
       "71.27933794600463"
      ]
     },
     "metadata": {},
     "output_type": "display_data"
    }
   ],
   "source": [
    "display(initRep['time-taken'].mean())\n",
    "display(initRep['oob_score'].mean())\n",
    "display(hy['timetaken'].mean())\n",
    "display(hy['oob_score_percent'].mean())"
   ]
  },
  {
   "cell_type": "code",
   "execution_count": 78,
   "metadata": {},
   "outputs": [
    {
     "data": {
      "text/plain": [
       "[<matplotlib.lines.Line2D at 0x1dda68345e0>]"
      ]
     },
     "execution_count": 78,
     "metadata": {},
     "output_type": "execute_result"
    },
    {
     "data": {
      "image/png": "[encoded data removed]",
      "text/plain": [
       "<Figure size 432x288 with 1 Axes>"
      ]
     },
     "metadata": {
      "needs_background": "light"
     },
     "output_type": "display_data"
    }
   ],
   "source": [
    "plt.xlabel('timetaken')\n",
    "plt.ylabel('oob score')\n",
    "# plt.gca().invert_xaxis()\n",
    "plt.gca().invert_yaxis()\n",
    "plt.scatter(initRep['time-taken'], initRep['oob_score'])\n",
    "plt.scatter(hy['timetaken'], hy['oob_score_percent']) \n",
    "plt.legend(['normal classification','with hybrid optimization'])\n",
    "plt.plot([initRep['time-taken'].mean(), hy['timetaken'].mean()], [initRep['oob_score'].mean(), hy['oob_score_percent'].mean()], color='green')"
   ]
  },
  {
   "cell_type": "code",
   "execution_count": 29,
   "metadata": {},
   "outputs": [],
   "source": [
    "ml_models = ['Logistic Regression','K Nearest Neighbors Classifier','Gaussian Naïve Bayes','Random Forest Classifier (Unoptimized)','Support Vector Machine','Decision Tree Classifier','GA_RFC','HGASA_RFC']\n",
    "scores = [0.654320987654321,0.654320987654321,0.6666666666666666,0.671957671957672,0.6790123456790124,0.6790123456790124,0.6952923613324621,0.7142857142857143]\n",
    "for i in range(len(scores)):\n",
    "    scores[i] *= 100"
   ]
  },
  {
   "cell_type": "code",
   "execution_count": 30,
   "metadata": {},
   "outputs": [
    {
     "data": {
      "image/png": "[encoded data removed]",
      "text/plain": [
       "<Figure size 1080x720 with 1 Axes>"
      ]
     },
     "metadata": {
      "needs_background": "light"
     },
     "output_type": "display_data"
    }
   ],
   "source": [
    "fig = plt.figure(figsize=(15,10))\n",
    "plt.barh(ml_models[::-1], scores[::-1])\n",
    "plt.xlim(60)\n",
    "plt.xlabel('Model Accuracy')\n",
    "plt.ylabel('ML Model used')\n",
    "plt.show()"
   ]
  },
  {
   "cell_type": "code",
   "execution_count": null,
   "metadata": {},
   "outputs": [],
   "source": []
  }
 ],
 "metadata": {
  "kernelspec": {
   "display_name": "base",
   "language": "python",
   "name": "python3"
  },
  "language_info": {
   "codemirror_mode": {
    "name": "ipython",
    "version": 3
   },
   "file_extension": ".py",
   "mimetype": "text/x-python",
   "name": "python",
   "nbconvert_exporter": "python",
   "pygments_lexer": "ipython3",
   "version": "3.8.8"
  },
  "orig_nbformat": 4,
  "vscode": {
   "interpreter": {
    "hash": "fb86c5e372bfe5d813b1cbc1070ec4aa4c75db0c83ff9e9751aacd15f8f7d009"
   }
  }
 },
 "nbformat": 4,
 "nbformat_minor": 2
}
