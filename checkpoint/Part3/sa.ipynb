{
 "cells": [
  {
   "attachments": {},
   "cell_type": "markdown",
   "metadata": {},
   "source": [
    "# SA v1"
   ]
  },
  {
   "cell_type": "code",
   "execution_count": 1,
   "metadata": {},
   "outputs": [
    {
     "name": "stdout",
     "output_type": "stream",
     "text": [
      "4.231734931184659\n"
     ]
    }
   ],
   "source": [
    "# https://github.com/ritajengn/Simulated-Anneling\n",
    "\n",
    "import random\n",
    "\n",
    "def genRand():\n",
    "    return random.uniform (-10,10)\n",
    "\n",
    "\n",
    "def eval(x1, x2, x3):\n",
    "    f = (4-2.1*x1**2 + (x1**4/3))*x1**2+x1**2+(-4+4*x2**2)*x2**2 + (x3**4/3)\n",
    "    return f\n",
    "\n",
    "\n",
    "def probability(capacity, initialMinVal, CurrentTemp):\n",
    "    P = (2.7182)**(initialMinVal-capacity)/CurrentTemp\n",
    "    return P\n",
    "\n",
    "\n",
    "currTemp = 500\n",
    "finTemp = 0.01\n",
    "alpha = 0.8  # value to reduce the initial temperature or the walk\n",
    "x1 = genRand()\n",
    "x2 = genRand()\n",
    "x3 = genRand()\n",
    "IniMinVal = eval(x1, x2, x3)\n",
    "\n",
    "while (currTemp > finTemp):\n",
    "    for i in range(10000):\n",
    "        x1 = genRand()\n",
    "        x2 = genRand()\n",
    "        x3 = genRand()\n",
    "        capacity = eval(x1, x2, x3)\n",
    "        if (IniMinVal > capacity):\n",
    "            IniMinVal = capacity  # best so far replaces the smallest value that has been obtained\n",
    "        else:\n",
    "            if probability(capacity, IniMinVal, currTemp) > random.random():\n",
    "                IniMinVal = capacity  # choose the probability value if it is greater\n",
    "                currTemp = currTemp * alpha\n",
    "print(IniMinVal)\n"
   ]
  },
  {
   "attachments": {},
   "cell_type": "markdown",
   "metadata": {},
   "source": [
    "# SA v2"
   ]
  },
  {
   "cell_type": "code",
   "execution_count": 2,
   "metadata": {},
   "outputs": [
    {
     "name": "stdout",
     "output_type": "stream",
     "text": [
      "[10, 10, 1]\n"
     ]
    }
   ],
   "source": [
    "import random\n",
    "\n",
    "def objective_function(combination):\n",
    "    # define the objective function to optimize\n",
    "    # for example, we can minimize the sum of the numbers\n",
    "    return combination[0]+combination[1]-combination[2]\n",
    "\n",
    "def simulate_annealing(T, T_min, alpha):\n",
    "    combination = [random.randint(1, 10) for _ in range(3)]\n",
    "    while T > T_min:\n",
    "        new_combination = combination.copy()\n",
    "        # randomly modify one of the numbers in the combination\n",
    "        i = random.randint(0, 2)\n",
    "        new_combination[i] = random.randint(1, 10)\n",
    "        delta_E = objective_function(new_combination) - objective_function(combination)\n",
    "        if delta_E > 0:\n",
    "            combination = new_combination\n",
    "        else:\n",
    "            p = 2.71828 ** (delta_E / T)\n",
    "            if random.uniform(0, 1) < p:\n",
    "                combination = new_combination\n",
    "        T *= alpha\n",
    "    return combination\n",
    "\n",
    "print(simulate_annealing(100, 0.01, 0.99))\n"
   ]
  }
 ],
 "metadata": {
  "kernelspec": {
   "display_name": "base",
   "language": "python",
   "name": "python3"
  },
  "language_info": {
   "codemirror_mode": {
    "name": "ipython",
    "version": 3
   },
   "file_extension": ".py",
   "mimetype": "text/x-python",
   "name": "python",
   "nbconvert_exporter": "python",
   "pygments_lexer": "ipython3",
   "version": "3.8.8"
  },
  "orig_nbformat": 4,
  "vscode": {
   "interpreter": {
    "hash": "fb86c5e372bfe5d813b1cbc1070ec4aa4c75db0c83ff9e9751aacd15f8f7d009"
   }
  }
 },
 "nbformat": 4,
 "nbformat_minor": 2
}
